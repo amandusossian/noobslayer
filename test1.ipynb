{
  "nbformat": 4,
  "nbformat_minor": 0,
  "metadata": {
    "colab": {
      "name": "test1.ipynb",
      "provenance": [],
      "toc_visible": true,
      "authorship_tag": "ABX9TyNw2GCFD9iMi3X+Fi1JFIKt",
      "include_colab_link": true
    },
    "kernelspec": {
      "name": "python3",
      "display_name": "Python 3"
    },
    "language_info": {
      "name": "python"
    }
  },
  "cells": [
    {
      "cell_type": "markdown",
      "metadata": {
        "id": "view-in-github",
        "colab_type": "text"
      },
      "source": [
        "<a href=\"https://colab.research.google.com/github/amandusossian/noobslayer/blob/main/test1.ipynb\" target=\"_parent\"><img src=\"https://colab.research.google.com/assets/colab-badge.svg\" alt=\"Open In Colab\"/></a>"
      ]
    },
    {
      "cell_type": "code",
      "execution_count": 1,
      "metadata": {
        "colab": {
          "base_uri": "https://localhost:8080/"
        },
        "id": "nSnQJ6Tx9leo",
        "outputId": "54836e98-e516-44d5-a78c-0a93415e2022"
      },
      "outputs": [
        {
          "output_type": "stream",
          "name": "stdout",
          "text": [
            "hej 0 2\n"
          ]
        }
      ],
      "source": [
        "a = 0\n",
        "b = 2\n",
        "print('hej', a*b, b+a)"
      ]
    },
    {
      "cell_type": "markdown",
      "source": [
        "Det var en gång engång"
      ],
      "metadata": {
        "id": "dSP4cIhzEn04"
      }
    }
  ]
}